{
 "cells": [
  {
   "cell_type": "markdown",
   "metadata": {},
   "source": [
    "# Data Analysis with respect to Year\n",
    "#### Name: Prateek Chitpur "
   ]
  },
  {
   "cell_type": "code",
   "execution_count": 1,
   "metadata": {},
   "outputs": [],
   "source": [
    "import pandas as pd"
   ]
  },
  {
   "cell_type": "code",
   "execution_count": 2,
   "metadata": {},
   "outputs": [
    {
     "data": {
      "text/html": [
       "<div>\n",
       "<style scoped>\n",
       "    .dataframe tbody tr th:only-of-type {\n",
       "        vertical-align: middle;\n",
       "    }\n",
       "\n",
       "    .dataframe tbody tr th {\n",
       "        vertical-align: top;\n",
       "    }\n",
       "\n",
       "    .dataframe thead th {\n",
       "        text-align: right;\n",
       "    }\n",
       "</style>\n",
       "<table border=\"1\" class=\"dataframe\">\n",
       "  <thead>\n",
       "    <tr style=\"text-align: right;\">\n",
       "      <th></th>\n",
       "      <th>Unnamed: 0</th>\n",
       "      <th>customer_email</th>\n",
       "      <th>net_revenue</th>\n",
       "      <th>year</th>\n",
       "    </tr>\n",
       "  </thead>\n",
       "  <tbody>\n",
       "    <tr>\n",
       "      <th>0</th>\n",
       "      <td>0</td>\n",
       "      <td>nhknapwsbx@gmail.com</td>\n",
       "      <td>249.92</td>\n",
       "      <td>2015</td>\n",
       "    </tr>\n",
       "    <tr>\n",
       "      <th>1</th>\n",
       "      <td>1</td>\n",
       "      <td>joiuzbvcpn@gmail.com</td>\n",
       "      <td>87.61</td>\n",
       "      <td>2015</td>\n",
       "    </tr>\n",
       "    <tr>\n",
       "      <th>2</th>\n",
       "      <td>2</td>\n",
       "      <td>ukkjctepxt@gmail.com</td>\n",
       "      <td>168.38</td>\n",
       "      <td>2015</td>\n",
       "    </tr>\n",
       "    <tr>\n",
       "      <th>3</th>\n",
       "      <td>3</td>\n",
       "      <td>gykatilzrt@gmail.com</td>\n",
       "      <td>62.40</td>\n",
       "      <td>2015</td>\n",
       "    </tr>\n",
       "    <tr>\n",
       "      <th>4</th>\n",
       "      <td>4</td>\n",
       "      <td>mmsgsrtxah@gmail.com</td>\n",
       "      <td>43.08</td>\n",
       "      <td>2015</td>\n",
       "    </tr>\n",
       "  </tbody>\n",
       "</table>\n",
       "</div>"
      ],
      "text/plain": [
       "   Unnamed: 0         customer_email  net_revenue  year\n",
       "0           0   nhknapwsbx@gmail.com       249.92  2015\n",
       "1           1   joiuzbvcpn@gmail.com        87.61  2015\n",
       "2           2   ukkjctepxt@gmail.com       168.38  2015\n",
       "3           3   gykatilzrt@gmail.com        62.40  2015\n",
       "4           4   mmsgsrtxah@gmail.com        43.08  2015"
      ]
     },
     "execution_count": 2,
     "metadata": {},
     "output_type": "execute_result"
    }
   ],
   "source": [
    "df = pd.read_csv('casestudy.csv')\n",
    "df.head()"
   ]
  },
  {
   "cell_type": "code",
   "execution_count": 3,
   "metadata": {},
   "outputs": [
    {
     "name": "stdout",
     "output_type": "stream",
     "text": [
      "<class 'pandas.core.frame.DataFrame'>\n",
      "RangeIndex: 685927 entries, 0 to 685926\n",
      "Data columns (total 4 columns):\n",
      " #   Column          Non-Null Count   Dtype  \n",
      "---  ------          --------------   -----  \n",
      " 0   Unnamed: 0      685927 non-null  int64  \n",
      " 1   customer_email  685927 non-null  object \n",
      " 2   net_revenue     685927 non-null  float64\n",
      " 3   year            685927 non-null  int64  \n",
      "dtypes: float64(1), int64(2), object(1)\n",
      "memory usage: 20.9+ MB\n"
     ]
    }
   ],
   "source": [
    "df.info()"
   ]
  },
  {
   "cell_type": "code",
   "execution_count": 4,
   "metadata": {},
   "outputs": [
    {
     "data": {
      "text/plain": [
       "Unnamed: 0        0\n",
       "customer_email    0\n",
       "net_revenue       0\n",
       "year              0\n",
       "dtype: int64"
      ]
     },
     "execution_count": 4,
     "metadata": {},
     "output_type": "execute_result"
    }
   ],
   "source": [
    "df.isna().sum()"
   ]
  },
  {
   "cell_type": "code",
   "execution_count": 5,
   "metadata": {},
   "outputs": [
    {
     "data": {
      "text/plain": [
       "0"
      ]
     },
     "execution_count": 5,
     "metadata": {},
     "output_type": "execute_result"
    }
   ],
   "source": [
    "df.duplicated().sum()"
   ]
  },
  {
   "cell_type": "code",
   "execution_count": 6,
   "metadata": {
    "scrolled": true
   },
   "outputs": [
    {
     "data": {
      "text/plain": [
       "year\n",
       "2015    29036749.19\n",
       "2016    25730943.59\n",
       "2017    31417495.03\n",
       "Name: net_revenue, dtype: float64"
      ]
     },
     "execution_count": 6,
     "metadata": {},
     "output_type": "execute_result"
    }
   ],
   "source": [
    "total_revenue = df.groupby('year')['net_revenue'].sum()\n",
    "total_revenue"
   ]
  },
  {
   "cell_type": "markdown",
   "metadata": {},
   "source": [
    "The new dataframes are created as per the requirement for the visualization purpose."
   ]
  },
  {
   "cell_type": "code",
   "execution_count": 50,
   "metadata": {},
   "outputs": [
    {
     "data": {
      "text/html": [
       "<div>\n",
       "<style scoped>\n",
       "    .dataframe tbody tr th:only-of-type {\n",
       "        vertical-align: middle;\n",
       "    }\n",
       "\n",
       "    .dataframe tbody tr th {\n",
       "        vertical-align: top;\n",
       "    }\n",
       "\n",
       "    .dataframe thead th {\n",
       "        text-align: right;\n",
       "    }\n",
       "</style>\n",
       "<table border=\"1\" class=\"dataframe\">\n",
       "  <thead>\n",
       "    <tr style=\"text-align: right;\">\n",
       "      <th></th>\n",
       "      <th>Unnamed: 0</th>\n",
       "      <th>customer_email</th>\n",
       "      <th>net_revenue</th>\n",
       "      <th>year</th>\n",
       "    </tr>\n",
       "  </thead>\n",
       "  <tbody>\n",
       "    <tr>\n",
       "      <th>0</th>\n",
       "      <td>0</td>\n",
       "      <td>nhknapwsbx@gmail.com</td>\n",
       "      <td>249.92</td>\n",
       "      <td>2015</td>\n",
       "    </tr>\n",
       "    <tr>\n",
       "      <th>1</th>\n",
       "      <td>1</td>\n",
       "      <td>joiuzbvcpn@gmail.com</td>\n",
       "      <td>87.61</td>\n",
       "      <td>2015</td>\n",
       "    </tr>\n",
       "    <tr>\n",
       "      <th>2</th>\n",
       "      <td>2</td>\n",
       "      <td>ukkjctepxt@gmail.com</td>\n",
       "      <td>168.38</td>\n",
       "      <td>2015</td>\n",
       "    </tr>\n",
       "    <tr>\n",
       "      <th>3</th>\n",
       "      <td>3</td>\n",
       "      <td>gykatilzrt@gmail.com</td>\n",
       "      <td>62.40</td>\n",
       "      <td>2015</td>\n",
       "    </tr>\n",
       "    <tr>\n",
       "      <th>4</th>\n",
       "      <td>4</td>\n",
       "      <td>mmsgsrtxah@gmail.com</td>\n",
       "      <td>43.08</td>\n",
       "      <td>2015</td>\n",
       "    </tr>\n",
       "    <tr>\n",
       "      <th>...</th>\n",
       "      <td>...</td>\n",
       "      <td>...</td>\n",
       "      <td>...</td>\n",
       "      <td>...</td>\n",
       "    </tr>\n",
       "    <tr>\n",
       "      <th>231289</th>\n",
       "      <td>231289</td>\n",
       "      <td>xtrpmgjbwp@gmail.com</td>\n",
       "      <td>216.89</td>\n",
       "      <td>2015</td>\n",
       "    </tr>\n",
       "    <tr>\n",
       "      <th>231290</th>\n",
       "      <td>231290</td>\n",
       "      <td>peeorxpsbr@gmail.com</td>\n",
       "      <td>39.16</td>\n",
       "      <td>2015</td>\n",
       "    </tr>\n",
       "    <tr>\n",
       "      <th>231291</th>\n",
       "      <td>231291</td>\n",
       "      <td>vanasezjpw@gmail.com</td>\n",
       "      <td>233.46</td>\n",
       "      <td>2015</td>\n",
       "    </tr>\n",
       "    <tr>\n",
       "      <th>231292</th>\n",
       "      <td>231292</td>\n",
       "      <td>dnpremlztb@gmail.com</td>\n",
       "      <td>136.27</td>\n",
       "      <td>2015</td>\n",
       "    </tr>\n",
       "    <tr>\n",
       "      <th>231293</th>\n",
       "      <td>231293</td>\n",
       "      <td>qsgswrpycl@gmail.com</td>\n",
       "      <td>60.24</td>\n",
       "      <td>2015</td>\n",
       "    </tr>\n",
       "  </tbody>\n",
       "</table>\n",
       "<p>231294 rows × 4 columns</p>\n",
       "</div>"
      ],
      "text/plain": [
       "        Unnamed: 0         customer_email  net_revenue  year\n",
       "0                0   nhknapwsbx@gmail.com       249.92  2015\n",
       "1                1   joiuzbvcpn@gmail.com        87.61  2015\n",
       "2                2   ukkjctepxt@gmail.com       168.38  2015\n",
       "3                3   gykatilzrt@gmail.com        62.40  2015\n",
       "4                4   mmsgsrtxah@gmail.com        43.08  2015\n",
       "...            ...                    ...          ...   ...\n",
       "231289      231289   xtrpmgjbwp@gmail.com       216.89  2015\n",
       "231290      231290   peeorxpsbr@gmail.com        39.16  2015\n",
       "231291      231291   vanasezjpw@gmail.com       233.46  2015\n",
       "231292      231292   dnpremlztb@gmail.com       136.27  2015\n",
       "231293      231293   qsgswrpycl@gmail.com        60.24  2015\n",
       "\n",
       "[231294 rows x 4 columns]"
      ]
     },
     "execution_count": 50,
     "metadata": {},
     "output_type": "execute_result"
    }
   ],
   "source": [
    "df_2015 = df[df['year']==2015]\n",
    "df_2015"
   ]
  },
  {
   "cell_type": "code",
   "execution_count": 51,
   "metadata": {
    "scrolled": true
   },
   "outputs": [
    {
     "data": {
      "text/html": [
       "<div>\n",
       "<style scoped>\n",
       "    .dataframe tbody tr th:only-of-type {\n",
       "        vertical-align: middle;\n",
       "    }\n",
       "\n",
       "    .dataframe tbody tr th {\n",
       "        vertical-align: top;\n",
       "    }\n",
       "\n",
       "    .dataframe thead th {\n",
       "        text-align: right;\n",
       "    }\n",
       "</style>\n",
       "<table border=\"1\" class=\"dataframe\">\n",
       "  <thead>\n",
       "    <tr style=\"text-align: right;\">\n",
       "      <th></th>\n",
       "      <th>Unnamed: 0</th>\n",
       "      <th>customer_email</th>\n",
       "      <th>net_revenue</th>\n",
       "      <th>year</th>\n",
       "    </tr>\n",
       "  </thead>\n",
       "  <tbody>\n",
       "    <tr>\n",
       "      <th>231294</th>\n",
       "      <td>231294</td>\n",
       "      <td>mwrossuukz@gmail.com</td>\n",
       "      <td>197.26</td>\n",
       "      <td>2016</td>\n",
       "    </tr>\n",
       "    <tr>\n",
       "      <th>231295</th>\n",
       "      <td>231295</td>\n",
       "      <td>gkwsoupawk@gmail.com</td>\n",
       "      <td>38.28</td>\n",
       "      <td>2016</td>\n",
       "    </tr>\n",
       "    <tr>\n",
       "      <th>231296</th>\n",
       "      <td>231296</td>\n",
       "      <td>vlyigtgfzs@gmail.com</td>\n",
       "      <td>154.57</td>\n",
       "      <td>2016</td>\n",
       "    </tr>\n",
       "    <tr>\n",
       "      <th>231297</th>\n",
       "      <td>231297</td>\n",
       "      <td>yfirychuhk@gmail.com</td>\n",
       "      <td>102.47</td>\n",
       "      <td>2016</td>\n",
       "    </tr>\n",
       "    <tr>\n",
       "      <th>231298</th>\n",
       "      <td>231298</td>\n",
       "      <td>trnzgqinuu@gmail.com</td>\n",
       "      <td>32.03</td>\n",
       "      <td>2016</td>\n",
       "    </tr>\n",
       "    <tr>\n",
       "      <th>...</th>\n",
       "      <td>...</td>\n",
       "      <td>...</td>\n",
       "      <td>...</td>\n",
       "      <td>...</td>\n",
       "    </tr>\n",
       "    <tr>\n",
       "      <th>435935</th>\n",
       "      <td>435935</td>\n",
       "      <td>mezrjfkced@gmail.com</td>\n",
       "      <td>114.17</td>\n",
       "      <td>2016</td>\n",
       "    </tr>\n",
       "    <tr>\n",
       "      <th>435936</th>\n",
       "      <td>435936</td>\n",
       "      <td>rdotspqdxi@gmail.com</td>\n",
       "      <td>169.79</td>\n",
       "      <td>2016</td>\n",
       "    </tr>\n",
       "    <tr>\n",
       "      <th>435937</th>\n",
       "      <td>435937</td>\n",
       "      <td>fkweqlmmjw@gmail.com</td>\n",
       "      <td>79.71</td>\n",
       "      <td>2016</td>\n",
       "    </tr>\n",
       "    <tr>\n",
       "      <th>435938</th>\n",
       "      <td>435938</td>\n",
       "      <td>pidugzoeej@gmail.com</td>\n",
       "      <td>116.80</td>\n",
       "      <td>2016</td>\n",
       "    </tr>\n",
       "    <tr>\n",
       "      <th>435939</th>\n",
       "      <td>435939</td>\n",
       "      <td>kxqglfdktu@gmail.com</td>\n",
       "      <td>37.31</td>\n",
       "      <td>2016</td>\n",
       "    </tr>\n",
       "  </tbody>\n",
       "</table>\n",
       "<p>204646 rows × 4 columns</p>\n",
       "</div>"
      ],
      "text/plain": [
       "        Unnamed: 0         customer_email  net_revenue  year\n",
       "231294      231294   mwrossuukz@gmail.com       197.26  2016\n",
       "231295      231295   gkwsoupawk@gmail.com        38.28  2016\n",
       "231296      231296   vlyigtgfzs@gmail.com       154.57  2016\n",
       "231297      231297   yfirychuhk@gmail.com       102.47  2016\n",
       "231298      231298   trnzgqinuu@gmail.com        32.03  2016\n",
       "...            ...                    ...          ...   ...\n",
       "435935      435935   mezrjfkced@gmail.com       114.17  2016\n",
       "435936      435936   rdotspqdxi@gmail.com       169.79  2016\n",
       "435937      435937   fkweqlmmjw@gmail.com        79.71  2016\n",
       "435938      435938   pidugzoeej@gmail.com       116.80  2016\n",
       "435939      435939   kxqglfdktu@gmail.com        37.31  2016\n",
       "\n",
       "[204646 rows x 4 columns]"
      ]
     },
     "execution_count": 51,
     "metadata": {},
     "output_type": "execute_result"
    }
   ],
   "source": [
    "df_2016 = df[df['year']==2016]\n",
    "df_2016"
   ]
  },
  {
   "cell_type": "code",
   "execution_count": null,
   "metadata": {},
   "outputs": [],
   "source": []
  },
  {
   "cell_type": "code",
   "execution_count": 42,
   "metadata": {},
   "outputs": [
    {
     "data": {
      "text/html": [
       "<div>\n",
       "<style scoped>\n",
       "    .dataframe tbody tr th:only-of-type {\n",
       "        vertical-align: middle;\n",
       "    }\n",
       "\n",
       "    .dataframe tbody tr th {\n",
       "        vertical-align: top;\n",
       "    }\n",
       "\n",
       "    .dataframe thead th {\n",
       "        text-align: right;\n",
       "    }\n",
       "</style>\n",
       "<table border=\"1\" class=\"dataframe\">\n",
       "  <thead>\n",
       "    <tr style=\"text-align: right;\">\n",
       "      <th></th>\n",
       "      <th>Unnamed: 0</th>\n",
       "      <th>customer_email</th>\n",
       "      <th>net_revenue</th>\n",
       "      <th>year</th>\n",
       "    </tr>\n",
       "  </thead>\n",
       "  <tbody>\n",
       "    <tr>\n",
       "      <th>435940</th>\n",
       "      <td>435940</td>\n",
       "      <td>mwrossuukz@gmail.com</td>\n",
       "      <td>96.61</td>\n",
       "      <td>2017</td>\n",
       "    </tr>\n",
       "    <tr>\n",
       "      <th>435941</th>\n",
       "      <td>435941</td>\n",
       "      <td>qvjfterwnk@gmail.com</td>\n",
       "      <td>176.00</td>\n",
       "      <td>2017</td>\n",
       "    </tr>\n",
       "    <tr>\n",
       "      <th>435942</th>\n",
       "      <td>435942</td>\n",
       "      <td>vlyigtgfzs@gmail.com</td>\n",
       "      <td>73.47</td>\n",
       "      <td>2017</td>\n",
       "    </tr>\n",
       "    <tr>\n",
       "      <th>435943</th>\n",
       "      <td>435943</td>\n",
       "      <td>yfirychuhk@gmail.com</td>\n",
       "      <td>138.17</td>\n",
       "      <td>2017</td>\n",
       "    </tr>\n",
       "    <tr>\n",
       "      <th>435944</th>\n",
       "      <td>435944</td>\n",
       "      <td>fdkiioqtli@gmail.com</td>\n",
       "      <td>156.87</td>\n",
       "      <td>2017</td>\n",
       "    </tr>\n",
       "    <tr>\n",
       "      <th>...</th>\n",
       "      <td>...</td>\n",
       "      <td>...</td>\n",
       "      <td>...</td>\n",
       "      <td>...</td>\n",
       "    </tr>\n",
       "    <tr>\n",
       "      <th>685922</th>\n",
       "      <td>685922</td>\n",
       "      <td>qzqttwiftu@gmail.com</td>\n",
       "      <td>184.58</td>\n",
       "      <td>2017</td>\n",
       "    </tr>\n",
       "    <tr>\n",
       "      <th>685923</th>\n",
       "      <td>685923</td>\n",
       "      <td>pjodiifjop@gmail.com</td>\n",
       "      <td>133.03</td>\n",
       "      <td>2017</td>\n",
       "    </tr>\n",
       "    <tr>\n",
       "      <th>685924</th>\n",
       "      <td>685924</td>\n",
       "      <td>appaplmgko@gmail.com</td>\n",
       "      <td>200.98</td>\n",
       "      <td>2017</td>\n",
       "    </tr>\n",
       "    <tr>\n",
       "      <th>685925</th>\n",
       "      <td>685925</td>\n",
       "      <td>wvkpmwsgck@gmail.com</td>\n",
       "      <td>235.35</td>\n",
       "      <td>2017</td>\n",
       "    </tr>\n",
       "    <tr>\n",
       "      <th>685926</th>\n",
       "      <td>685926</td>\n",
       "      <td>aregboumbw@gmail.com</td>\n",
       "      <td>208.43</td>\n",
       "      <td>2017</td>\n",
       "    </tr>\n",
       "  </tbody>\n",
       "</table>\n",
       "<p>249987 rows × 4 columns</p>\n",
       "</div>"
      ],
      "text/plain": [
       "        Unnamed: 0         customer_email  net_revenue  year\n",
       "435940      435940   mwrossuukz@gmail.com        96.61  2017\n",
       "435941      435941  qvjfterwnk@gmail.com        176.00  2017\n",
       "435942      435942   vlyigtgfzs@gmail.com        73.47  2017\n",
       "435943      435943   yfirychuhk@gmail.com       138.17  2017\n",
       "435944      435944   fdkiioqtli@gmail.com       156.87  2017\n",
       "...            ...                    ...          ...   ...\n",
       "685922      685922   qzqttwiftu@gmail.com       184.58  2017\n",
       "685923      685923   pjodiifjop@gmail.com       133.03  2017\n",
       "685924      685924   appaplmgko@gmail.com       200.98  2017\n",
       "685925      685925   wvkpmwsgck@gmail.com       235.35  2017\n",
       "685926      685926   aregboumbw@gmail.com       208.43  2017\n",
       "\n",
       "[249987 rows x 4 columns]"
      ]
     },
     "execution_count": 42,
     "metadata": {},
     "output_type": "execute_result"
    }
   ],
   "source": [
    "df_2017 = df[df['year']==2017]\n",
    "df_2017"
   ]
  },
  {
   "cell_type": "code",
   "execution_count": null,
   "metadata": {},
   "outputs": [],
   "source": []
  },
  {
   "cell_type": "code",
   "execution_count": 43,
   "metadata": {},
   "outputs": [],
   "source": [
    "df_2016_new_customer = df_2016.merge(df_2015, how='left',on='customer_email')\n",
    "df_2016_new_customer = df_2016_new_customer[df_2016_new_customer['year_y'] != 2015]"
   ]
  },
  {
   "cell_type": "markdown",
   "metadata": {},
   "source": [
    "New Customer"
   ]
  },
  {
   "cell_type": "code",
   "execution_count": 30,
   "metadata": {},
   "outputs": [],
   "source": [
    "new_customers = pd.concat([df_2015, df_2016_new_customer, df_2017_new_customer])\n",
    "new_customers['year_x'].fillna(2015,inplace = True)\n",
    "new_customers['net_revenue_x'].fillna(df['net_revenue'],inplace = True)"
   ]
  },
  {
   "cell_type": "code",
   "execution_count": 31,
   "metadata": {},
   "outputs": [],
   "source": [
    "df_2017_new_customer = df_2017.merge(df_2016, how='left',on='customer_email')\n",
    "df_2017_new_customer = df_2017_new_customer[df_2017_new_customer['year_y'] != 2016]"
   ]
  },
  {
   "cell_type": "code",
   "execution_count": 32,
   "metadata": {},
   "outputs": [],
   "source": [
    "df_2016_exist_customer = df_2016.merge(df_2015, how='left',on='customer_email')\n",
    "df_2016_exist_customer = df_2016_exist_customer[df_2016_exist_customer['year_y'] == 2015]\n",
    "\n",
    "df_2017_exist_customer = df_2017.merge(df_2016, how='left',on='customer_email')\n",
    "df_2017_exist_customer = df_2017_exist_customer[df_2017_exist_customer['year_y'] == 2016]"
   ]
  },
  {
   "cell_type": "markdown",
   "metadata": {},
   "source": [
    "Existing Customer"
   ]
  },
  {
   "cell_type": "code",
   "execution_count": 33,
   "metadata": {},
   "outputs": [],
   "source": [
    "existing_customers = pd.concat([df_2015, df_2016_exist_customer, df_2017_exist_customer])"
   ]
  },
  {
   "cell_type": "code",
   "execution_count": null,
   "metadata": {
    "scrolled": true
   },
   "outputs": [],
   "source": [
    "df_2016_lost_customer = df_2016.merge(df_2015, how='right',on='customer_email')\n",
    "df_2016_lost_customer = df_2016_lost_customer[df_2016_lost_customer['year_y'] != 2016]"
   ]
  },
  {
   "cell_type": "code",
   "execution_count": 59,
   "metadata": {},
   "outputs": [],
   "source": [
    "df_2017_lost_customer = df_2017.merge(df_2016, how='right',on='customer_email')\n",
    "df_2017_lost_customer = df_2017_lost_customer[df_2017_lost_customer['year_y'] != 2017]"
   ]
  },
  {
   "cell_type": "markdown",
   "metadata": {},
   "source": [
    "Lost Customer"
   ]
  },
  {
   "cell_type": "code",
   "execution_count": 61,
   "metadata": {},
   "outputs": [
    {
     "data": {
      "text/html": [
       "<div>\n",
       "<style scoped>\n",
       "    .dataframe tbody tr th:only-of-type {\n",
       "        vertical-align: middle;\n",
       "    }\n",
       "\n",
       "    .dataframe tbody tr th {\n",
       "        vertical-align: top;\n",
       "    }\n",
       "\n",
       "    .dataframe thead th {\n",
       "        text-align: right;\n",
       "    }\n",
       "</style>\n",
       "<table border=\"1\" class=\"dataframe\">\n",
       "  <thead>\n",
       "    <tr style=\"text-align: right;\">\n",
       "      <th></th>\n",
       "      <th>Unnamed: 0_x</th>\n",
       "      <th>customer_email</th>\n",
       "      <th>net_revenue_x</th>\n",
       "      <th>year_x</th>\n",
       "      <th>Unnamed: 0_y</th>\n",
       "      <th>net_revenue_y</th>\n",
       "      <th>year_y</th>\n",
       "    </tr>\n",
       "  </thead>\n",
       "  <tbody>\n",
       "    <tr>\n",
       "      <th>0</th>\n",
       "      <td>NaN</td>\n",
       "      <td>nhknapwsbx@gmail.com</td>\n",
       "      <td>NaN</td>\n",
       "      <td>NaN</td>\n",
       "      <td>0</td>\n",
       "      <td>249.92</td>\n",
       "      <td>2015</td>\n",
       "    </tr>\n",
       "    <tr>\n",
       "      <th>1</th>\n",
       "      <td>NaN</td>\n",
       "      <td>joiuzbvcpn@gmail.com</td>\n",
       "      <td>NaN</td>\n",
       "      <td>NaN</td>\n",
       "      <td>1</td>\n",
       "      <td>87.61</td>\n",
       "      <td>2015</td>\n",
       "    </tr>\n",
       "    <tr>\n",
       "      <th>2</th>\n",
       "      <td>NaN</td>\n",
       "      <td>ukkjctepxt@gmail.com</td>\n",
       "      <td>NaN</td>\n",
       "      <td>NaN</td>\n",
       "      <td>2</td>\n",
       "      <td>168.38</td>\n",
       "      <td>2015</td>\n",
       "    </tr>\n",
       "    <tr>\n",
       "      <th>3</th>\n",
       "      <td>NaN</td>\n",
       "      <td>gykatilzrt@gmail.com</td>\n",
       "      <td>NaN</td>\n",
       "      <td>NaN</td>\n",
       "      <td>3</td>\n",
       "      <td>62.40</td>\n",
       "      <td>2015</td>\n",
       "    </tr>\n",
       "    <tr>\n",
       "      <th>4</th>\n",
       "      <td>NaN</td>\n",
       "      <td>mmsgsrtxah@gmail.com</td>\n",
       "      <td>NaN</td>\n",
       "      <td>NaN</td>\n",
       "      <td>4</td>\n",
       "      <td>43.08</td>\n",
       "      <td>2015</td>\n",
       "    </tr>\n",
       "    <tr>\n",
       "      <th>...</th>\n",
       "      <td>...</td>\n",
       "      <td>...</td>\n",
       "      <td>...</td>\n",
       "      <td>...</td>\n",
       "      <td>...</td>\n",
       "      <td>...</td>\n",
       "      <td>...</td>\n",
       "    </tr>\n",
       "    <tr>\n",
       "      <th>204641</th>\n",
       "      <td>NaN</td>\n",
       "      <td>mezrjfkced@gmail.com</td>\n",
       "      <td>NaN</td>\n",
       "      <td>NaN</td>\n",
       "      <td>435935</td>\n",
       "      <td>114.17</td>\n",
       "      <td>2016</td>\n",
       "    </tr>\n",
       "    <tr>\n",
       "      <th>204642</th>\n",
       "      <td>NaN</td>\n",
       "      <td>rdotspqdxi@gmail.com</td>\n",
       "      <td>NaN</td>\n",
       "      <td>NaN</td>\n",
       "      <td>435936</td>\n",
       "      <td>169.79</td>\n",
       "      <td>2016</td>\n",
       "    </tr>\n",
       "    <tr>\n",
       "      <th>204643</th>\n",
       "      <td>640583.0</td>\n",
       "      <td>fkweqlmmjw@gmail.com</td>\n",
       "      <td>21.78</td>\n",
       "      <td>2017.0</td>\n",
       "      <td>435937</td>\n",
       "      <td>79.71</td>\n",
       "      <td>2016</td>\n",
       "    </tr>\n",
       "    <tr>\n",
       "      <th>204644</th>\n",
       "      <td>NaN</td>\n",
       "      <td>pidugzoeej@gmail.com</td>\n",
       "      <td>NaN</td>\n",
       "      <td>NaN</td>\n",
       "      <td>435938</td>\n",
       "      <td>116.80</td>\n",
       "      <td>2016</td>\n",
       "    </tr>\n",
       "    <tr>\n",
       "      <th>204645</th>\n",
       "      <td>NaN</td>\n",
       "      <td>kxqglfdktu@gmail.com</td>\n",
       "      <td>NaN</td>\n",
       "      <td>NaN</td>\n",
       "      <td>435939</td>\n",
       "      <td>37.31</td>\n",
       "      <td>2016</td>\n",
       "    </tr>\n",
       "  </tbody>\n",
       "</table>\n",
       "<p>435940 rows × 7 columns</p>\n",
       "</div>"
      ],
      "text/plain": [
       "        Unnamed: 0_x         customer_email  net_revenue_x  year_x  \\\n",
       "0                NaN   nhknapwsbx@gmail.com            NaN     NaN   \n",
       "1                NaN   joiuzbvcpn@gmail.com            NaN     NaN   \n",
       "2                NaN   ukkjctepxt@gmail.com            NaN     NaN   \n",
       "3                NaN   gykatilzrt@gmail.com            NaN     NaN   \n",
       "4                NaN   mmsgsrtxah@gmail.com            NaN     NaN   \n",
       "...              ...                    ...            ...     ...   \n",
       "204641           NaN   mezrjfkced@gmail.com            NaN     NaN   \n",
       "204642           NaN   rdotspqdxi@gmail.com            NaN     NaN   \n",
       "204643      640583.0   fkweqlmmjw@gmail.com          21.78  2017.0   \n",
       "204644           NaN   pidugzoeej@gmail.com            NaN     NaN   \n",
       "204645           NaN   kxqglfdktu@gmail.com            NaN     NaN   \n",
       "\n",
       "        Unnamed: 0_y  net_revenue_y  year_y  \n",
       "0                  0         249.92    2015  \n",
       "1                  1          87.61    2015  \n",
       "2                  2         168.38    2015  \n",
       "3                  3          62.40    2015  \n",
       "4                  4          43.08    2015  \n",
       "...              ...            ...     ...  \n",
       "204641        435935         114.17    2016  \n",
       "204642        435936         169.79    2016  \n",
       "204643        435937          79.71    2016  \n",
       "204644        435938         116.80    2016  \n",
       "204645        435939          37.31    2016  \n",
       "\n",
       "[435940 rows x 7 columns]"
      ]
     },
     "execution_count": 61,
     "metadata": {},
     "output_type": "execute_result"
    }
   ],
   "source": [
    "lost_customer = pd.concat([df_2016_lost_customer, df_2017_lost_customer])\n",
    "lost_customer"
   ]
  },
  {
   "cell_type": "code",
   "execution_count": 37,
   "metadata": {},
   "outputs": [],
   "source": [
    "existing_customers['year_x'].fillna(2015,inplace = True)\n",
    "existing_customers['net_revenue_x'].fillna(df['net_revenue'],inplace = True)"
   ]
  },
  {
   "cell_type": "markdown",
   "metadata": {},
   "source": [
    "All the dataframes are written to different csv files."
   ]
  },
  {
   "cell_type": "code",
   "execution_count": 23,
   "metadata": {},
   "outputs": [],
   "source": [
    "new_customers.to_csv('new_customers.csv')"
   ]
  },
  {
   "cell_type": "code",
   "execution_count": 28,
   "metadata": {},
   "outputs": [],
   "source": [
    "existing_customers.to_csv('existing_customers.csv')"
   ]
  },
  {
   "cell_type": "code",
   "execution_count": 62,
   "metadata": {},
   "outputs": [],
   "source": [
    "lost_customer.to_csv('lost_customer.csv')"
   ]
  },
  {
   "cell_type": "code",
   "execution_count": null,
   "metadata": {},
   "outputs": [],
   "source": []
  }
 ],
 "metadata": {
  "kernelspec": {
   "display_name": "Python 3",
   "language": "python",
   "name": "python3"
  },
  "language_info": {
   "codemirror_mode": {
    "name": "ipython",
    "version": 3
   },
   "file_extension": ".py",
   "mimetype": "text/x-python",
   "name": "python",
   "nbconvert_exporter": "python",
   "pygments_lexer": "ipython3",
   "version": "3.7.6"
  }
 },
 "nbformat": 4,
 "nbformat_minor": 4
}
